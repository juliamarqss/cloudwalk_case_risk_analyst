{
  "nbformat": 4,
  "nbformat_minor": 0,
  "metadata": {
    "colab": {
      "provenance": []
    },
    "kernelspec": {
      "name": "python3",
      "display_name": "Python 3"
    },
    "language_info": {
      "name": "python"
    }
  },
  "cells": [
    {
      "cell_type": "code",
      "execution_count": 88,
      "metadata": {
        "id": "EnX9QP051I50"
      },
      "outputs": [],
      "source": [
        "import numpy as np\n",
        "import pandas as pd\n",
        "import seaborn as sns\n",
        "import matplotlib.pyplot as plt\n",
        "from sklearn.model_selection import train_test_split\n",
        "from sklearn.ensemble import RandomForestClassifier\n",
        "from sklearn.metrics import classification_report"
      ]
    },
    {
      "cell_type": "code",
      "source": [
        "# Lendo os dados\n",
        "df = pd.read_csv('transactional_sample.csv')"
      ],
      "metadata": {
        "id": "jz1dAmg41Z9B"
      },
      "execution_count": 4,
      "outputs": []
    },
    {
      "cell_type": "code",
      "source": [
        "# Informações dos atributos\n",
        "df.info()"
      ],
      "metadata": {
        "id": "6SoLGalW-xEC",
        "colab": {
          "base_uri": "https://localhost:8080/"
        },
        "outputId": "8bbb960d-8d87-4bad-b567-a7d19e7ee80c"
      },
      "execution_count": 65,
      "outputs": [
        {
          "output_type": "stream",
          "name": "stdout",
          "text": [
            "<class 'pandas.core.frame.DataFrame'>\n",
            "Int64Index: 2369 entries, 0 to 2920\n",
            "Data columns (total 11 columns):\n",
            " #   Column              Non-Null Count  Dtype         \n",
            "---  ------              --------------  -----         \n",
            " 0   transaction_id      2369 non-null   int64         \n",
            " 1   merchant_id         2369 non-null   int64         \n",
            " 2   user_id             2369 non-null   int64         \n",
            " 3   card_number         2369 non-null   object        \n",
            " 4   transaction_date    2369 non-null   object        \n",
            " 5   transaction_amount  2369 non-null   float64       \n",
            " 6   device_id           2369 non-null   float64       \n",
            " 7   has_cbk             2369 non-null   float64       \n",
            " 8   time                2369 non-null   datetime64[ns]\n",
            " 9   date                2369 non-null   object        \n",
            " 10  hour                2369 non-null   int64         \n",
            "dtypes: datetime64[ns](1), float64(3), int64(4), object(3)\n",
            "memory usage: 286.6+ KB\n"
          ]
        }
      ]
    },
    {
      "cell_type": "code",
      "source": [
        "# Verificando algumas linhas\n",
        "df.head()"
      ],
      "metadata": {
        "colab": {
          "base_uri": "https://localhost:8080/",
          "height": 297
        },
        "id": "iSjzXeCY2pbD",
        "outputId": "072c613f-3961-442f-aeca-008c7ab2879b"
      },
      "execution_count": 6,
      "outputs": [
        {
          "output_type": "execute_result",
          "data": {
            "text/plain": [
              "   transaction_id  merchant_id  user_id       card_number  \\\n",
              "0        21320398        29744    97051  434505******9116   \n",
              "1        21320399        92895     2708  444456******4210   \n",
              "2        21320400        47759    14777  425850******7024   \n",
              "3        21320401        68657    69758  464296******3991   \n",
              "4        21320402        54075    64367  650487******6116   \n",
              "\n",
              "             transaction_date  transaction_amount  device_id  has_cbk  \n",
              "0  2019-12-01T23:16:32.812632              374.56   285475.0    False  \n",
              "1  2019-12-01T22:45:37.873639              734.87   497105.0     True  \n",
              "2  2019-12-01T22:22:43.021495              760.36        NaN    False  \n",
              "3  2019-12-01T21:59:19.797129             2556.13        NaN     True  \n",
              "4  2019-12-01T21:30:53.347051               55.36   860232.0    False  "
            ],
            "text/html": [
              "\n",
              "  <div id=\"df-d2c11034-963d-456c-a6d3-fea4c2c83317\">\n",
              "    <div class=\"colab-df-container\">\n",
              "      <div>\n",
              "<style scoped>\n",
              "    .dataframe tbody tr th:only-of-type {\n",
              "        vertical-align: middle;\n",
              "    }\n",
              "\n",
              "    .dataframe tbody tr th {\n",
              "        vertical-align: top;\n",
              "    }\n",
              "\n",
              "    .dataframe thead th {\n",
              "        text-align: right;\n",
              "    }\n",
              "</style>\n",
              "<table border=\"1\" class=\"dataframe\">\n",
              "  <thead>\n",
              "    <tr style=\"text-align: right;\">\n",
              "      <th></th>\n",
              "      <th>transaction_id</th>\n",
              "      <th>merchant_id</th>\n",
              "      <th>user_id</th>\n",
              "      <th>card_number</th>\n",
              "      <th>transaction_date</th>\n",
              "      <th>transaction_amount</th>\n",
              "      <th>device_id</th>\n",
              "      <th>has_cbk</th>\n",
              "    </tr>\n",
              "  </thead>\n",
              "  <tbody>\n",
              "    <tr>\n",
              "      <th>0</th>\n",
              "      <td>21320398</td>\n",
              "      <td>29744</td>\n",
              "      <td>97051</td>\n",
              "      <td>434505******9116</td>\n",
              "      <td>2019-12-01T23:16:32.812632</td>\n",
              "      <td>374.56</td>\n",
              "      <td>285475.0</td>\n",
              "      <td>False</td>\n",
              "    </tr>\n",
              "    <tr>\n",
              "      <th>1</th>\n",
              "      <td>21320399</td>\n",
              "      <td>92895</td>\n",
              "      <td>2708</td>\n",
              "      <td>444456******4210</td>\n",
              "      <td>2019-12-01T22:45:37.873639</td>\n",
              "      <td>734.87</td>\n",
              "      <td>497105.0</td>\n",
              "      <td>True</td>\n",
              "    </tr>\n",
              "    <tr>\n",
              "      <th>2</th>\n",
              "      <td>21320400</td>\n",
              "      <td>47759</td>\n",
              "      <td>14777</td>\n",
              "      <td>425850******7024</td>\n",
              "      <td>2019-12-01T22:22:43.021495</td>\n",
              "      <td>760.36</td>\n",
              "      <td>NaN</td>\n",
              "      <td>False</td>\n",
              "    </tr>\n",
              "    <tr>\n",
              "      <th>3</th>\n",
              "      <td>21320401</td>\n",
              "      <td>68657</td>\n",
              "      <td>69758</td>\n",
              "      <td>464296******3991</td>\n",
              "      <td>2019-12-01T21:59:19.797129</td>\n",
              "      <td>2556.13</td>\n",
              "      <td>NaN</td>\n",
              "      <td>True</td>\n",
              "    </tr>\n",
              "    <tr>\n",
              "      <th>4</th>\n",
              "      <td>21320402</td>\n",
              "      <td>54075</td>\n",
              "      <td>64367</td>\n",
              "      <td>650487******6116</td>\n",
              "      <td>2019-12-01T21:30:53.347051</td>\n",
              "      <td>55.36</td>\n",
              "      <td>860232.0</td>\n",
              "      <td>False</td>\n",
              "    </tr>\n",
              "  </tbody>\n",
              "</table>\n",
              "</div>\n",
              "      <button class=\"colab-df-convert\" onclick=\"convertToInteractive('df-d2c11034-963d-456c-a6d3-fea4c2c83317')\"\n",
              "              title=\"Convert this dataframe to an interactive table.\"\n",
              "              style=\"display:none;\">\n",
              "        \n",
              "  <svg xmlns=\"http://www.w3.org/2000/svg\" height=\"24px\"viewBox=\"0 0 24 24\"\n",
              "       width=\"24px\">\n",
              "    <path d=\"M0 0h24v24H0V0z\" fill=\"none\"/>\n",
              "    <path d=\"M18.56 5.44l.94 2.06.94-2.06 2.06-.94-2.06-.94-.94-2.06-.94 2.06-2.06.94zm-11 1L8.5 8.5l.94-2.06 2.06-.94-2.06-.94L8.5 2.5l-.94 2.06-2.06.94zm10 10l.94 2.06.94-2.06 2.06-.94-2.06-.94-.94-2.06-.94 2.06-2.06.94z\"/><path d=\"M17.41 7.96l-1.37-1.37c-.4-.4-.92-.59-1.43-.59-.52 0-1.04.2-1.43.59L10.3 9.45l-7.72 7.72c-.78.78-.78 2.05 0 2.83L4 21.41c.39.39.9.59 1.41.59.51 0 1.02-.2 1.41-.59l7.78-7.78 2.81-2.81c.8-.78.8-2.07 0-2.86zM5.41 20L4 18.59l7.72-7.72 1.47 1.35L5.41 20z\"/>\n",
              "  </svg>\n",
              "      </button>\n",
              "      \n",
              "  <style>\n",
              "    .colab-df-container {\n",
              "      display:flex;\n",
              "      flex-wrap:wrap;\n",
              "      gap: 12px;\n",
              "    }\n",
              "\n",
              "    .colab-df-convert {\n",
              "      background-color: #E8F0FE;\n",
              "      border: none;\n",
              "      border-radius: 50%;\n",
              "      cursor: pointer;\n",
              "      display: none;\n",
              "      fill: #1967D2;\n",
              "      height: 32px;\n",
              "      padding: 0 0 0 0;\n",
              "      width: 32px;\n",
              "    }\n",
              "\n",
              "    .colab-df-convert:hover {\n",
              "      background-color: #E2EBFA;\n",
              "      box-shadow: 0px 1px 2px rgba(60, 64, 67, 0.3), 0px 1px 3px 1px rgba(60, 64, 67, 0.15);\n",
              "      fill: #174EA6;\n",
              "    }\n",
              "\n",
              "    [theme=dark] .colab-df-convert {\n",
              "      background-color: #3B4455;\n",
              "      fill: #D2E3FC;\n",
              "    }\n",
              "\n",
              "    [theme=dark] .colab-df-convert:hover {\n",
              "      background-color: #434B5C;\n",
              "      box-shadow: 0px 1px 3px 1px rgba(0, 0, 0, 0.15);\n",
              "      filter: drop-shadow(0px 1px 2px rgba(0, 0, 0, 0.3));\n",
              "      fill: #FFFFFF;\n",
              "    }\n",
              "  </style>\n",
              "\n",
              "      <script>\n",
              "        const buttonEl =\n",
              "          document.querySelector('#df-d2c11034-963d-456c-a6d3-fea4c2c83317 button.colab-df-convert');\n",
              "        buttonEl.style.display =\n",
              "          google.colab.kernel.accessAllowed ? 'block' : 'none';\n",
              "\n",
              "        async function convertToInteractive(key) {\n",
              "          const element = document.querySelector('#df-d2c11034-963d-456c-a6d3-fea4c2c83317');\n",
              "          const dataTable =\n",
              "            await google.colab.kernel.invokeFunction('convertToInteractive',\n",
              "                                                     [key], {});\n",
              "          if (!dataTable) return;\n",
              "\n",
              "          const docLinkHtml = 'Like what you see? Visit the ' +\n",
              "            '<a target=\"_blank\" href=https://colab.research.google.com/notebooks/data_table.ipynb>data table notebook</a>'\n",
              "            + ' to learn more about interactive tables.';\n",
              "          element.innerHTML = '';\n",
              "          dataTable['output_type'] = 'display_data';\n",
              "          await google.colab.output.renderOutput(dataTable, element);\n",
              "          const docLink = document.createElement('div');\n",
              "          docLink.innerHTML = docLinkHtml;\n",
              "          element.appendChild(docLink);\n",
              "        }\n",
              "      </script>\n",
              "    </div>\n",
              "  </div>\n",
              "  "
            ]
          },
          "metadata": {},
          "execution_count": 6
        }
      ]
    },
    {
      "cell_type": "code",
      "source": [
        "df.columns"
      ],
      "metadata": {
        "colab": {
          "base_uri": "https://localhost:8080/"
        },
        "id": "T9c-5DWsti3A",
        "outputId": "9d58d2f1-35dc-4086-c43c-d7ea84d3229a"
      },
      "execution_count": 55,
      "outputs": [
        {
          "output_type": "execute_result",
          "data": {
            "text/plain": [
              "Index(['transaction_id', 'merchant_id', 'user_id', 'card_number',\n",
              "       'transaction_date', 'transaction_amount', 'device_id', 'has_cbk'],\n",
              "      dtype='object')"
            ]
          },
          "metadata": {},
          "execution_count": 55
        }
      ]
    },
    {
      "cell_type": "code",
      "source": [
        "# Verificando os valores vazios\n",
        "df.isna().sum()"
      ],
      "metadata": {
        "colab": {
          "base_uri": "https://localhost:8080/"
        },
        "id": "abkXQPG6_Q6Y",
        "outputId": "0dc9e008-04ac-47b2-f98a-67e52db6737f"
      },
      "execution_count": 7,
      "outputs": [
        {
          "output_type": "execute_result",
          "data": {
            "text/plain": [
              "transaction_id          0\n",
              "merchant_id             0\n",
              "user_id                 0\n",
              "card_number             0\n",
              "transaction_date        0\n",
              "transaction_amount      0\n",
              "device_id             830\n",
              "has_cbk                 0\n",
              "dtype: int64"
            ]
          },
          "metadata": {},
          "execution_count": 7
        }
      ]
    },
    {
      "cell_type": "code",
      "source": [
        "# Eliminando os valores vazios\n",
        "df.dropna(inplace=True)"
      ],
      "metadata": {
        "id": "4UNnnWtk_qfN"
      },
      "execution_count": 8,
      "outputs": []
    },
    {
      "cell_type": "code",
      "source": [
        "# Transformando o has_cbk em número\n",
        "df.loc[df['has_cbk'] == True, 'has_cbk'] = 1\n",
        "df.loc[df['has_cbk'] == False, 'has_cbk'] = 0"
      ],
      "metadata": {
        "id": "ii7_Dc5tx1Sl"
      },
      "execution_count": 58,
      "outputs": []
    },
    {
      "cell_type": "code",
      "source": [
        "# Verificando a coluna has_cbk (são transações com chargebacks fraudulentos)\n",
        "df['has_cbk'].value_counts()\n",
        "sns.countplot(data = df, x='has_cbk')"
      ],
      "metadata": {
        "colab": {
          "base_uri": "https://localhost:8080/",
          "height": 297
        },
        "id": "PqNSVwDr_5aV",
        "outputId": "f80d1777-f135-40d0-a6f9-63f7c387fd15"
      },
      "execution_count": 59,
      "outputs": [
        {
          "output_type": "execute_result",
          "data": {
            "text/plain": [
              "<matplotlib.axes._subplots.AxesSubplot at 0x7fb3be7cb3d0>"
            ]
          },
          "metadata": {},
          "execution_count": 59
        },
        {
          "output_type": "display_data",
          "data": {
            "text/plain": [
              "<Figure size 432x288 with 1 Axes>"
            ],
            "image/png": "[encoded data removed]"
          },
          "metadata": {
            "needs_background": "light"
          }
        }
      ]
    },
    {
      "cell_type": "code",
      "source": [
        "# Explorando as correlações com has_cbk\n",
        "df.corr()['has_cbk'].sort_values(ascending=False)"
      ],
      "metadata": {
        "colab": {
          "base_uri": "https://localhost:8080/"
        },
        "id": "GshKXKBNBxgU",
        "outputId": "2d5ee78e-b316-430b-e407-3b95468b108b"
      },
      "execution_count": 60,
      "outputs": [
        {
          "output_type": "execute_result",
          "data": {
            "text/plain": [
              "has_cbk               1.000000\n",
              "transaction_amount    0.308509\n",
              "user_id               0.022877\n",
              "device_id            -0.045825\n",
              "merchant_id          -0.055553\n",
              "transaction_id       -0.146741\n",
              "Name: has_cbk, dtype: float64"
            ]
          },
          "metadata": {},
          "execution_count": 60
        }
      ]
    },
    {
      "cell_type": "code",
      "source": [
        "# Transformando os valores do transaction_date\n",
        "df['time'] = pd.to_datetime(df['transaction_date'])\n",
        "df['date'] = df.time.dt.date\n",
        "df['hour'] = df.time.dt.hour"
      ],
      "metadata": {
        "id": "lewJLs0AyqHE"
      },
      "execution_count": 77,
      "outputs": []
    },
    {
      "cell_type": "code",
      "source": [
        "# Observar que a coluna time, date e hour foram acrescentadas\n",
        "df.head()"
      ],
      "metadata": {
        "colab": {
          "base_uri": "https://localhost:8080/",
          "height": 312
        },
        "id": "TDXtqPLezIKX",
        "outputId": "6f328ae8-8eeb-4d71-806b-d65cfa50c0e5"
      },
      "execution_count": 82,
      "outputs": [
        {
          "output_type": "execute_result",
          "data": {
            "text/plain": [
              "   transaction_id  merchant_id  user_id       card_number  \\\n",
              "0        21320398        29744    97051  434505******9116   \n",
              "1        21320399        92895     2708  444456******4210   \n",
              "4        21320402        54075    64367  650487******6116   \n",
              "5        21320403        59566    40759  516292******8220   \n",
              "6        21320404        20917    25661  650485******9310   \n",
              "\n",
              "             transaction_date  transaction_amount  device_id  has_cbk  \\\n",
              "0  2019-12-01T23:16:32.812632              374.56   285475.0      0.0   \n",
              "1  2019-12-01T22:45:37.873639              734.87   497105.0      1.0   \n",
              "4  2019-12-01T21:30:53.347051               55.36   860232.0      0.0   \n",
              "5  2019-12-01T21:25:53.374213               60.49   192705.0      0.0   \n",
              "6  2019-12-01T21:25:19.532243              318.37   760932.0      0.0   \n",
              "\n",
              "                        time        date  hour  \n",
              "0 2019-12-01 23:16:32.812632  20191201.0    23  \n",
              "1 2019-12-01 22:45:37.873639  20191201.0    22  \n",
              "4 2019-12-01 21:30:53.347051  20191201.0    21  \n",
              "5 2019-12-01 21:25:53.374213  20191201.0    21  \n",
              "6 2019-12-01 21:25:19.532243  20191201.0    21  "
            ],
            "text/html": [
              "\n",
              "  <div id=\"df-74712ffc-8870-4c7a-bece-f3b27558a3f8\">\n",
              "    <div class=\"colab-df-container\">\n",
              "      <div>\n",
              "<style scoped>\n",
              "    .dataframe tbody tr th:only-of-type {\n",
              "        vertical-align: middle;\n",
              "    }\n",
              "\n",
              "    .dataframe tbody tr th {\n",
              "        vertical-align: top;\n",
              "    }\n",
              "\n",
              "    .dataframe thead th {\n",
              "        text-align: right;\n",
              "    }\n",
              "</style>\n",
              "<table border=\"1\" class=\"dataframe\">\n",
              "  <thead>\n",
              "    <tr style=\"text-align: right;\">\n",
              "      <th></th>\n",
              "      <th>transaction_id</th>\n",
              "      <th>merchant_id</th>\n",
              "      <th>user_id</th>\n",
              "      <th>card_number</th>\n",
              "      <th>transaction_date</th>\n",
              "      <th>transaction_amount</th>\n",
              "      <th>device_id</th>\n",
              "      <th>has_cbk</th>\n",
              "      <th>time</th>\n",
              "      <th>date</th>\n",
              "      <th>hour</th>\n",
              "    </tr>\n",
              "  </thead>\n",
              "  <tbody>\n",
              "    <tr>\n",
              "      <th>0</th>\n",
              "      <td>21320398</td>\n",
              "      <td>29744</td>\n",
              "      <td>97051</td>\n",
              "      <td>434505******9116</td>\n",
              "      <td>2019-12-01T23:16:32.812632</td>\n",
              "      <td>374.56</td>\n",
              "      <td>285475.0</td>\n",
              "      <td>0.0</td>\n",
              "      <td>2019-12-01 23:16:32.812632</td>\n",
              "      <td>20191201.0</td>\n",
              "      <td>23</td>\n",
              "    </tr>\n",
              "    <tr>\n",
              "      <th>1</th>\n",
              "      <td>21320399</td>\n",
              "      <td>92895</td>\n",
              "      <td>2708</td>\n",
              "      <td>444456******4210</td>\n",
              "      <td>2019-12-01T22:45:37.873639</td>\n",
              "      <td>734.87</td>\n",
              "      <td>497105.0</td>\n",
              "      <td>1.0</td>\n",
              "      <td>2019-12-01 22:45:37.873639</td>\n",
              "      <td>20191201.0</td>\n",
              "      <td>22</td>\n",
              "    </tr>\n",
              "    <tr>\n",
              "      <th>4</th>\n",
              "      <td>21320402</td>\n",
              "      <td>54075</td>\n",
              "      <td>64367</td>\n",
              "      <td>650487******6116</td>\n",
              "      <td>2019-12-01T21:30:53.347051</td>\n",
              "      <td>55.36</td>\n",
              "      <td>860232.0</td>\n",
              "      <td>0.0</td>\n",
              "      <td>2019-12-01 21:30:53.347051</td>\n",
              "      <td>20191201.0</td>\n",
              "      <td>21</td>\n",
              "    </tr>\n",
              "    <tr>\n",
              "      <th>5</th>\n",
              "      <td>21320403</td>\n",
              "      <td>59566</td>\n",
              "      <td>40759</td>\n",
              "      <td>516292******8220</td>\n",
              "      <td>2019-12-01T21:25:53.374213</td>\n",
              "      <td>60.49</td>\n",
              "      <td>192705.0</td>\n",
              "      <td>0.0</td>\n",
              "      <td>2019-12-01 21:25:53.374213</td>\n",
              "      <td>20191201.0</td>\n",
              "      <td>21</td>\n",
              "    </tr>\n",
              "    <tr>\n",
              "      <th>6</th>\n",
              "      <td>21320404</td>\n",
              "      <td>20917</td>\n",
              "      <td>25661</td>\n",
              "      <td>650485******9310</td>\n",
              "      <td>2019-12-01T21:25:19.532243</td>\n",
              "      <td>318.37</td>\n",
              "      <td>760932.0</td>\n",
              "      <td>0.0</td>\n",
              "      <td>2019-12-01 21:25:19.532243</td>\n",
              "      <td>20191201.0</td>\n",
              "      <td>21</td>\n",
              "    </tr>\n",
              "  </tbody>\n",
              "</table>\n",
              "</div>\n",
              "      <button class=\"colab-df-convert\" onclick=\"convertToInteractive('df-74712ffc-8870-4c7a-bece-f3b27558a3f8')\"\n",
              "              title=\"Convert this dataframe to an interactive table.\"\n",
              "              style=\"display:none;\">\n",
              "        \n",
              "  <svg xmlns=\"http://www.w3.org/2000/svg\" height=\"24px\"viewBox=\"0 0 24 24\"\n",
              "       width=\"24px\">\n",
              "    <path d=\"M0 0h24v24H0V0z\" fill=\"none\"/>\n",
              "    <path d=\"M18.56 5.44l.94 2.06.94-2.06 2.06-.94-2.06-.94-.94-2.06-.94 2.06-2.06.94zm-11 1L8.5 8.5l.94-2.06 2.06-.94-2.06-.94L8.5 2.5l-.94 2.06-2.06.94zm10 10l.94 2.06.94-2.06 2.06-.94-2.06-.94-.94-2.06-.94 2.06-2.06.94z\"/><path d=\"M17.41 7.96l-1.37-1.37c-.4-.4-.92-.59-1.43-.59-.52 0-1.04.2-1.43.59L10.3 9.45l-7.72 7.72c-.78.78-.78 2.05 0 2.83L4 21.41c.39.39.9.59 1.41.59.51 0 1.02-.2 1.41-.59l7.78-7.78 2.81-2.81c.8-.78.8-2.07 0-2.86zM5.41 20L4 18.59l7.72-7.72 1.47 1.35L5.41 20z\"/>\n",
              "  </svg>\n",
              "      </button>\n",
              "      \n",
              "  <style>\n",
              "    .colab-df-container {\n",
              "      display:flex;\n",
              "      flex-wrap:wrap;\n",
              "      gap: 12px;\n",
              "    }\n",
              "\n",
              "    .colab-df-convert {\n",
              "      background-color: #E8F0FE;\n",
              "      border: none;\n",
              "      border-radius: 50%;\n",
              "      cursor: pointer;\n",
              "      display: none;\n",
              "      fill: #1967D2;\n",
              "      height: 32px;\n",
              "      padding: 0 0 0 0;\n",
              "      width: 32px;\n",
              "    }\n",
              "\n",
              "    .colab-df-convert:hover {\n",
              "      background-color: #E2EBFA;\n",
              "      box-shadow: 0px 1px 2px rgba(60, 64, 67, 0.3), 0px 1px 3px 1px rgba(60, 64, 67, 0.15);\n",
              "      fill: #174EA6;\n",
              "    }\n",
              "\n",
              "    [theme=dark] .colab-df-convert {\n",
              "      background-color: #3B4455;\n",
              "      fill: #D2E3FC;\n",
              "    }\n",
              "\n",
              "    [theme=dark] .colab-df-convert:hover {\n",
              "      background-color: #434B5C;\n",
              "      box-shadow: 0px 1px 3px 1px rgba(0, 0, 0, 0.15);\n",
              "      filter: drop-shadow(0px 1px 2px rgba(0, 0, 0, 0.3));\n",
              "      fill: #FFFFFF;\n",
              "    }\n",
              "  </style>\n",
              "\n",
              "      <script>\n",
              "        const buttonEl =\n",
              "          document.querySelector('#df-74712ffc-8870-4c7a-bece-f3b27558a3f8 button.colab-df-convert');\n",
              "        buttonEl.style.display =\n",
              "          google.colab.kernel.accessAllowed ? 'block' : 'none';\n",
              "\n",
              "        async function convertToInteractive(key) {\n",
              "          const element = document.querySelector('#df-74712ffc-8870-4c7a-bece-f3b27558a3f8');\n",
              "          const dataTable =\n",
              "            await google.colab.kernel.invokeFunction('convertToInteractive',\n",
              "                                                     [key], {});\n",
              "          if (!dataTable) return;\n",
              "\n",
              "          const docLinkHtml = 'Like what you see? Visit the ' +\n",
              "            '<a target=\"_blank\" href=https://colab.research.google.com/notebooks/data_table.ipynb>data table notebook</a>'\n",
              "            + ' to learn more about interactive tables.';\n",
              "          element.innerHTML = '';\n",
              "          dataTable['output_type'] = 'display_data';\n",
              "          await google.colab.output.renderOutput(dataTable, element);\n",
              "          const docLink = document.createElement('div');\n",
              "          docLink.innerHTML = docLinkHtml;\n",
              "          element.appendChild(docLink);\n",
              "        }\n",
              "      </script>\n",
              "    </div>\n",
              "  </div>\n",
              "  "
            ]
          },
          "metadata": {},
          "execution_count": 82
        }
      ]
    },
    {
      "cell_type": "markdown",
      "source": [
        "**Pré-Processamento dos dados**"
      ],
      "metadata": {
        "id": "Y16Um5VMeMB_"
      }
    },
    {
      "cell_type": "code",
      "source": [
        "# Codifica variáveis fictícias para todo o conjunto de dados\n",
        "df_encoded = pd.get_dummies(df)"
      ],
      "metadata": {
        "id": "ouDVPRxSqjwS"
      },
      "execution_count": 25,
      "outputs": []
    },
    {
      "cell_type": "code",
      "source": [
        "# Separando os dados para treinamento e teste da máquina preditiva\n",
        "X = df_encoded.drop(['has_cbk'], axis=1)\n",
        "y = df_encoded['has_cbk']\n",
        "X_train, X_val, y_train, y_val = train_test_split(X, y, test_size=0.3, random_state=7)"
      ],
      "metadata": {
        "id": "4FQBpV3ZeQx1"
      },
      "execution_count": 32,
      "outputs": []
    },
    {
      "cell_type": "markdown",
      "source": [
        "**Máquina preditiva de detecção de fraude**"
      ],
      "metadata": {
        "id": "e_y8vDo4fbE5"
      }
    },
    {
      "cell_type": "code",
      "source": [
        "# Construindo o model\n",
        "model = RandomForestClassifier()"
      ],
      "metadata": {
        "id": "V0Yjbst5fiRV"
      },
      "execution_count": 30,
      "outputs": []
    },
    {
      "cell_type": "code",
      "source": [
        "# Treinando o modelo\n",
        "model = model.fit(X_train, y_train)"
      ],
      "metadata": {
        "id": "AT1QrOg2fxwr"
      },
      "execution_count": 33,
      "outputs": []
    },
    {
      "cell_type": "code",
      "source": [
        "# Passando novos dados (dados de teste) para o modelo\n",
        "y_predict = model.predict(X_val)"
      ],
      "metadata": {
        "id": "oEydhVdxgWQO"
      },
      "execution_count": 34,
      "outputs": []
    },
    {
      "cell_type": "markdown",
      "source": [
        "**Avaliando a máquina preditiva**"
      ],
      "metadata": {
        "id": "rMqw9wWvrI9v"
      }
    },
    {
      "cell_type": "code",
      "source": [
        "# Comparando gabarito e previsões da máquina\n",
        "gabarito = pd.DataFrame({'Gabarito': y_val, 'Previsões_da_Máquina': y_predict})\n",
        "gabarito"
      ],
      "metadata": {
        "colab": {
          "base_uri": "https://localhost:8080/",
          "height": 424
        },
        "id": "yruudP2yrMqc",
        "outputId": "4331b445-23d6-411e-e836-fc99488f89dd"
      },
      "execution_count": 89,
      "outputs": [
        {
          "output_type": "execute_result",
          "data": {
            "text/plain": [
              "      Gabarito  Previsões_da_Máquina\n",
              "283      False                 False\n",
              "1550     False                 False\n",
              "1769     False                 False\n",
              "1844     False                 False\n",
              "1555     False                 False\n",
              "...        ...                   ...\n",
              "1957     False                 False\n",
              "2143     False                 False\n",
              "383      False                 False\n",
              "2648     False                 False\n",
              "127      False                 False\n",
              "\n",
              "[711 rows x 2 columns]"
            ],
            "text/html": [
              "\n",
              "  <div id=\"df-46819819-dad2-4607-b9f8-cb684d57fc0d\">\n",
              "    <div class=\"colab-df-container\">\n",
              "      <div>\n",
              "<style scoped>\n",
              "    .dataframe tbody tr th:only-of-type {\n",
              "        vertical-align: middle;\n",
              "    }\n",
              "\n",
              "    .dataframe tbody tr th {\n",
              "        vertical-align: top;\n",
              "    }\n",
              "\n",
              "    .dataframe thead th {\n",
              "        text-align: right;\n",
              "    }\n",
              "</style>\n",
              "<table border=\"1\" class=\"dataframe\">\n",
              "  <thead>\n",
              "    <tr style=\"text-align: right;\">\n",
              "      <th></th>\n",
              "      <th>Gabarito</th>\n",
              "      <th>Previsões_da_Máquina</th>\n",
              "    </tr>\n",
              "  </thead>\n",
              "  <tbody>\n",
              "    <tr>\n",
              "      <th>283</th>\n",
              "      <td>False</td>\n",
              "      <td>False</td>\n",
              "    </tr>\n",
              "    <tr>\n",
              "      <th>1550</th>\n",
              "      <td>False</td>\n",
              "      <td>False</td>\n",
              "    </tr>\n",
              "    <tr>\n",
              "      <th>1769</th>\n",
              "      <td>False</td>\n",
              "      <td>False</td>\n",
              "    </tr>\n",
              "    <tr>\n",
              "      <th>1844</th>\n",
              "      <td>False</td>\n",
              "      <td>False</td>\n",
              "    </tr>\n",
              "    <tr>\n",
              "      <th>1555</th>\n",
              "      <td>False</td>\n",
              "      <td>False</td>\n",
              "    </tr>\n",
              "    <tr>\n",
              "      <th>...</th>\n",
              "      <td>...</td>\n",
              "      <td>...</td>\n",
              "    </tr>\n",
              "    <tr>\n",
              "      <th>1957</th>\n",
              "      <td>False</td>\n",
              "      <td>False</td>\n",
              "    </tr>\n",
              "    <tr>\n",
              "      <th>2143</th>\n",
              "      <td>False</td>\n",
              "      <td>False</td>\n",
              "    </tr>\n",
              "    <tr>\n",
              "      <th>383</th>\n",
              "      <td>False</td>\n",
              "      <td>False</td>\n",
              "    </tr>\n",
              "    <tr>\n",
              "      <th>2648</th>\n",
              "      <td>False</td>\n",
              "      <td>False</td>\n",
              "    </tr>\n",
              "    <tr>\n",
              "      <th>127</th>\n",
              "      <td>False</td>\n",
              "      <td>False</td>\n",
              "    </tr>\n",
              "  </tbody>\n",
              "</table>\n",
              "<p>711 rows × 2 columns</p>\n",
              "</div>\n",
              "      <button class=\"colab-df-convert\" onclick=\"convertToInteractive('df-46819819-dad2-4607-b9f8-cb684d57fc0d')\"\n",
              "              title=\"Convert this dataframe to an interactive table.\"\n",
              "              style=\"display:none;\">\n",
              "        \n",
              "  <svg xmlns=\"http://www.w3.org/2000/svg\" height=\"24px\"viewBox=\"0 0 24 24\"\n",
              "       width=\"24px\">\n",
              "    <path d=\"M0 0h24v24H0V0z\" fill=\"none\"/>\n",
              "    <path d=\"M18.56 5.44l.94 2.06.94-2.06 2.06-.94-2.06-.94-.94-2.06-.94 2.06-2.06.94zm-11 1L8.5 8.5l.94-2.06 2.06-.94-2.06-.94L8.5 2.5l-.94 2.06-2.06.94zm10 10l.94 2.06.94-2.06 2.06-.94-2.06-.94-.94-2.06-.94 2.06-2.06.94z\"/><path d=\"M17.41 7.96l-1.37-1.37c-.4-.4-.92-.59-1.43-.59-.52 0-1.04.2-1.43.59L10.3 9.45l-7.72 7.72c-.78.78-.78 2.05 0 2.83L4 21.41c.39.39.9.59 1.41.59.51 0 1.02-.2 1.41-.59l7.78-7.78 2.81-2.81c.8-.78.8-2.07 0-2.86zM5.41 20L4 18.59l7.72-7.72 1.47 1.35L5.41 20z\"/>\n",
              "  </svg>\n",
              "      </button>\n",
              "      \n",
              "  <style>\n",
              "    .colab-df-container {\n",
              "      display:flex;\n",
              "      flex-wrap:wrap;\n",
              "      gap: 12px;\n",
              "    }\n",
              "\n",
              "    .colab-df-convert {\n",
              "      background-color: #E8F0FE;\n",
              "      border: none;\n",
              "      border-radius: 50%;\n",
              "      cursor: pointer;\n",
              "      display: none;\n",
              "      fill: #1967D2;\n",
              "      height: 32px;\n",
              "      padding: 0 0 0 0;\n",
              "      width: 32px;\n",
              "    }\n",
              "\n",
              "    .colab-df-convert:hover {\n",
              "      background-color: #E2EBFA;\n",
              "      box-shadow: 0px 1px 2px rgba(60, 64, 67, 0.3), 0px 1px 3px 1px rgba(60, 64, 67, 0.15);\n",
              "      fill: #174EA6;\n",
              "    }\n",
              "\n",
              "    [theme=dark] .colab-df-convert {\n",
              "      background-color: #3B4455;\n",
              "      fill: #D2E3FC;\n",
              "    }\n",
              "\n",
              "    [theme=dark] .colab-df-convert:hover {\n",
              "      background-color: #434B5C;\n",
              "      box-shadow: 0px 1px 3px 1px rgba(0, 0, 0, 0.15);\n",
              "      filter: drop-shadow(0px 1px 2px rgba(0, 0, 0, 0.3));\n",
              "      fill: #FFFFFF;\n",
              "    }\n",
              "  </style>\n",
              "\n",
              "      <script>\n",
              "        const buttonEl =\n",
              "          document.querySelector('#df-46819819-dad2-4607-b9f8-cb684d57fc0d button.colab-df-convert');\n",
              "        buttonEl.style.display =\n",
              "          google.colab.kernel.accessAllowed ? 'block' : 'none';\n",
              "\n",
              "        async function convertToInteractive(key) {\n",
              "          const element = document.querySelector('#df-46819819-dad2-4607-b9f8-cb684d57fc0d');\n",
              "          const dataTable =\n",
              "            await google.colab.kernel.invokeFunction('convertToInteractive',\n",
              "                                                     [key], {});\n",
              "          if (!dataTable) return;\n",
              "\n",
              "          const docLinkHtml = 'Like what you see? Visit the ' +\n",
              "            '<a target=\"_blank\" href=https://colab.research.google.com/notebooks/data_table.ipynb>data table notebook</a>'\n",
              "            + ' to learn more about interactive tables.';\n",
              "          element.innerHTML = '';\n",
              "          dataTable['output_type'] = 'display_data';\n",
              "          await google.colab.output.renderOutput(dataTable, element);\n",
              "          const docLink = document.createElement('div');\n",
              "          docLink.innerHTML = docLinkHtml;\n",
              "          element.appendChild(docLink);\n",
              "        }\n",
              "      </script>\n",
              "    </div>\n",
              "  </div>\n",
              "  "
            ]
          },
          "metadata": {},
          "execution_count": 89
        }
      ]
    },
    {
      "cell_type": "code",
      "source": [
        "# gera um relatório de classificação\n",
        "print('Classification metrics: \\n', classification_report(y_val, y_predict))"
      ],
      "metadata": {
        "colab": {
          "base_uri": "https://localhost:8080/"
        },
        "id": "YgUN6kp4q9tA",
        "outputId": "3061e19e-e895-4b6b-982e-18bf0c025ce6"
      },
      "execution_count": 90,
      "outputs": [
        {
          "output_type": "stream",
          "name": "stdout",
          "text": [
            "Classification metrics: \n",
            "               precision    recall  f1-score   support\n",
            "\n",
            "       False       0.89      1.00      0.94       616\n",
            "        True       0.92      0.23      0.37        95\n",
            "\n",
            "    accuracy                           0.89       711\n",
            "   macro avg       0.91      0.61      0.66       711\n",
            "weighted avg       0.90      0.89      0.87       711\n",
            "\n"
          ]
        }
      ]
    }
  ]
}